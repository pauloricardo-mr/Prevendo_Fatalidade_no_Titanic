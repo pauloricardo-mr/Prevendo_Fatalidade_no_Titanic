{
  "nbformat": 4,
  "nbformat_minor": 0,
  "metadata": {
    "colab": {
      "name": "Modelo em Python.ipynb",
      "provenance": [],
      "collapsed_sections": [],
      "toc_visible": true
    },
    "kernelspec": {
      "name": "python3",
      "display_name": "Python 3"
    },
    "language_info": {
      "name": "python"
    }
  },
  "cells": [
    {
      "cell_type": "markdown",
      "metadata": {
        "id": "R3d6a6gpYyJt"
      },
      "source": [
        "##**1. Importando Pacotes**\n"
      ]
    },
    {
      "cell_type": "code",
      "metadata": {
        "id": "1GK0BKIqY3Ef"
      },
      "source": [
        "import pandas as pd\n",
        "import numpy as np\n",
        "from sklearn.ensemble import RandomForestClassifier\n",
        "from sklearn.model_selection import train_test_split"
      ],
      "execution_count": null,
      "outputs": []
    },
    {
      "cell_type": "markdown",
      "metadata": {
        "id": "Ee8_Sup4Zk4m"
      },
      "source": [
        "##**2. Lendo Banco de dados**"
      ]
    },
    {
      "cell_type": "code",
      "metadata": {
        "id": "I6Y0HirHZr_Z"
      },
      "source": [
        "dados = pd.read_csv('/content/drive/MyDrive/04. Cursos e palestras/Dio/Data science/train.csv')"
      ],
      "execution_count": null,
      "outputs": []
    },
    {
      "cell_type": "code",
      "metadata": {
        "id": "q10NGG6NZ9NQ"
      },
      "source": [
        "dados.head()"
      ],
      "execution_count": null,
      "outputs": []
    },
    {
      "cell_type": "code",
      "metadata": {
        "id": "3cBhEifPatBm"
      },
      "source": [
        "dados = dados.drop(['Name','Ticket','Cabin','Embarked'], axis = 1)\n",
        "dados.head()"
      ],
      "execution_count": null,
      "outputs": []
    },
    {
      "cell_type": "markdown",
      "metadata": {
        "id": "k4_3U4XGbu9G"
      },
      "source": [
        "##**3. Editando Chaves e Variável Resposta**\n"
      ]
    },
    {
      "cell_type": "code",
      "metadata": {
        "id": "sKW02WWYePBq"
      },
      "source": [
        "dados = dados.set_index(['PassengerId'])\n",
        "dados = dados.rename(columns={'Survived' : 'target'}, inplace = False)"
      ],
      "execution_count": null,
      "outputs": []
    },
    {
      "cell_type": "code",
      "metadata": {
        "id": "kSspXycYg8s9",
        "colab": {
          "base_uri": "https://localhost:8080/",
          "height": 235
        },
        "outputId": "ff29887b-8398-4f7d-8729-c25fb459fea0"
      },
      "source": [
        "dados.head()"
      ],
      "execution_count": null,
      "outputs": [
        {
          "output_type": "execute_result",
          "data": {
            "text/html": [
              "<div>\n",
              "<style scoped>\n",
              "    .dataframe tbody tr th:only-of-type {\n",
              "        vertical-align: middle;\n",
              "    }\n",
              "\n",
              "    .dataframe tbody tr th {\n",
              "        vertical-align: top;\n",
              "    }\n",
              "\n",
              "    .dataframe thead th {\n",
              "        text-align: right;\n",
              "    }\n",
              "</style>\n",
              "<table border=\"1\" class=\"dataframe\">\n",
              "  <thead>\n",
              "    <tr style=\"text-align: right;\">\n",
              "      <th></th>\n",
              "      <th>target</th>\n",
              "      <th>Pclass</th>\n",
              "      <th>Sex</th>\n",
              "      <th>Age</th>\n",
              "      <th>SibSp</th>\n",
              "      <th>Parch</th>\n",
              "      <th>Fare</th>\n",
              "    </tr>\n",
              "    <tr>\n",
              "      <th>PassengerId</th>\n",
              "      <th></th>\n",
              "      <th></th>\n",
              "      <th></th>\n",
              "      <th></th>\n",
              "      <th></th>\n",
              "      <th></th>\n",
              "      <th></th>\n",
              "    </tr>\n",
              "  </thead>\n",
              "  <tbody>\n",
              "    <tr>\n",
              "      <th>1</th>\n",
              "      <td>0</td>\n",
              "      <td>3</td>\n",
              "      <td>male</td>\n",
              "      <td>22.0</td>\n",
              "      <td>1</td>\n",
              "      <td>0</td>\n",
              "      <td>7.2500</td>\n",
              "    </tr>\n",
              "    <tr>\n",
              "      <th>2</th>\n",
              "      <td>1</td>\n",
              "      <td>1</td>\n",
              "      <td>female</td>\n",
              "      <td>38.0</td>\n",
              "      <td>1</td>\n",
              "      <td>0</td>\n",
              "      <td>71.2833</td>\n",
              "    </tr>\n",
              "    <tr>\n",
              "      <th>3</th>\n",
              "      <td>1</td>\n",
              "      <td>3</td>\n",
              "      <td>female</td>\n",
              "      <td>26.0</td>\n",
              "      <td>0</td>\n",
              "      <td>0</td>\n",
              "      <td>7.9250</td>\n",
              "    </tr>\n",
              "    <tr>\n",
              "      <th>4</th>\n",
              "      <td>1</td>\n",
              "      <td>1</td>\n",
              "      <td>female</td>\n",
              "      <td>35.0</td>\n",
              "      <td>1</td>\n",
              "      <td>0</td>\n",
              "      <td>53.1000</td>\n",
              "    </tr>\n",
              "    <tr>\n",
              "      <th>5</th>\n",
              "      <td>0</td>\n",
              "      <td>3</td>\n",
              "      <td>male</td>\n",
              "      <td>35.0</td>\n",
              "      <td>0</td>\n",
              "      <td>0</td>\n",
              "      <td>8.0500</td>\n",
              "    </tr>\n",
              "  </tbody>\n",
              "</table>\n",
              "</div>"
            ],
            "text/plain": [
              "             target  Pclass     Sex   Age  SibSp  Parch     Fare\n",
              "PassengerId                                                     \n",
              "1                 0       3    male  22.0      1      0   7.2500\n",
              "2                 1       1  female  38.0      1      0  71.2833\n",
              "3                 1       3  female  26.0      0      0   7.9250\n",
              "4                 1       1  female  35.0      1      0  53.1000\n",
              "5                 0       3    male  35.0      0      0   8.0500"
            ]
          },
          "metadata": {},
          "execution_count": 47
        }
      ]
    },
    {
      "cell_type": "markdown",
      "metadata": {
        "id": "RyeU6c3OfP8g"
      },
      "source": [
        "##**4. Descritiva**"
      ]
    },
    {
      "cell_type": "code",
      "metadata": {
        "id": "H5nqAxqCfUU4"
      },
      "source": [
        "dados.describe()"
      ],
      "execution_count": null,
      "outputs": []
    },
    {
      "cell_type": "code",
      "metadata": {
        "id": "gQ4GYjvsgbyl"
      },
      "source": [
        "dados.describe(include=['O'])"
      ],
      "execution_count": null,
      "outputs": []
    },
    {
      "cell_type": "markdown",
      "metadata": {
        "id": "yS-FcAlHjh7A"
      },
      "source": [
        "##**5. Transformação dos dados**"
      ]
    },
    {
      "cell_type": "code",
      "metadata": {
        "id": "P-jQ14zsjnLJ"
      },
      "source": [
        "dados['Sex_F'] = np.where(dados['Sex'] == 'female', 1, 0)\n",
        "\n",
        "dados['Pclass_1'] = np.where(dados['Pclass'] == 1, 1, 0)\n",
        "dados['Pclass_2'] = np.where(dados['Pclass'] == 2, 1, 0)\n",
        "dados['Pclass_3'] = np.where(dados['Pclass'] == 3, 1, 0)"
      ],
      "execution_count": null,
      "outputs": []
    },
    {
      "cell_type": "code",
      "metadata": {
        "id": "OIq5UQKUoYIB"
      },
      "source": [
        "dados = dados.drop(['Pclass','Sex'], axis = 1)"
      ],
      "execution_count": null,
      "outputs": []
    },
    {
      "cell_type": "code",
      "metadata": {
        "id": "tp7za6CCpSWm"
      },
      "source": [
        "dados.isnull().sum()"
      ],
      "execution_count": null,
      "outputs": []
    },
    {
      "cell_type": "code",
      "metadata": {
        "id": "ZeZ06pPzpVpP"
      },
      "source": [
        "dados.fillna(0, inplace = True)"
      ],
      "execution_count": null,
      "outputs": []
    },
    {
      "cell_type": "code",
      "metadata": {
        "id": "fxD5NgWPwNcm"
      },
      "source": [
        "dados.head()"
      ],
      "execution_count": null,
      "outputs": []
    },
    {
      "cell_type": "markdown",
      "metadata": {
        "id": "hqczSlgHqxSh"
      },
      "source": [
        "##**6. Amostragem**"
      ]
    },
    {
      "cell_type": "code",
      "metadata": {
        "id": "JGVh5ONUq2wQ",
        "colab": {
          "base_uri": "https://localhost:8080/"
        },
        "outputId": "5d9b42d3-8d4c-40a0-e1f6-1fcd37087e60"
      },
      "source": [
        "x_train, x_test, y_train, y_test = train_test_split(dados.drop(['target'], axis = 1), \n",
        "                                                    dados['target'], \n",
        "                                                    test_size = 0.3,\n",
        "                                                    random_state = 1234)\n",
        "\n",
        "[{'treino': x_train.shape}, {'teste': x_test.shape}]"
      ],
      "execution_count": null,
      "outputs": [
        {
          "output_type": "execute_result",
          "data": {
            "text/plain": [
              "[{'treino': (623, 8)}, {'teste': (268, 8)}]"
            ]
          },
          "metadata": {},
          "execution_count": 58
        }
      ]
    },
    {
      "cell_type": "code",
      "metadata": {
        "colab": {
          "base_uri": "https://localhost:8080/",
          "height": 235
        },
        "id": "PbyZM37JviS3",
        "outputId": "3e921254-eb6f-48d9-b0af-6e15a9c3c2d3"
      },
      "source": [
        "dados.head()"
      ],
      "execution_count": null,
      "outputs": [
        {
          "output_type": "execute_result",
          "data": {
            "text/html": [
              "<div>\n",
              "<style scoped>\n",
              "    .dataframe tbody tr th:only-of-type {\n",
              "        vertical-align: middle;\n",
              "    }\n",
              "\n",
              "    .dataframe tbody tr th {\n",
              "        vertical-align: top;\n",
              "    }\n",
              "\n",
              "    .dataframe thead th {\n",
              "        text-align: right;\n",
              "    }\n",
              "</style>\n",
              "<table border=\"1\" class=\"dataframe\">\n",
              "  <thead>\n",
              "    <tr style=\"text-align: right;\">\n",
              "      <th></th>\n",
              "      <th>target</th>\n",
              "      <th>Age</th>\n",
              "      <th>SibSp</th>\n",
              "      <th>Parch</th>\n",
              "      <th>Fare</th>\n",
              "      <th>Sex_F</th>\n",
              "      <th>Pclass_1</th>\n",
              "      <th>Pclass_2</th>\n",
              "      <th>Pclass_3</th>\n",
              "    </tr>\n",
              "    <tr>\n",
              "      <th>PassengerId</th>\n",
              "      <th></th>\n",
              "      <th></th>\n",
              "      <th></th>\n",
              "      <th></th>\n",
              "      <th></th>\n",
              "      <th></th>\n",
              "      <th></th>\n",
              "      <th></th>\n",
              "      <th></th>\n",
              "    </tr>\n",
              "  </thead>\n",
              "  <tbody>\n",
              "    <tr>\n",
              "      <th>1</th>\n",
              "      <td>0</td>\n",
              "      <td>22.0</td>\n",
              "      <td>1</td>\n",
              "      <td>0</td>\n",
              "      <td>7.2500</td>\n",
              "      <td>0</td>\n",
              "      <td>0</td>\n",
              "      <td>0</td>\n",
              "      <td>1</td>\n",
              "    </tr>\n",
              "    <tr>\n",
              "      <th>2</th>\n",
              "      <td>1</td>\n",
              "      <td>38.0</td>\n",
              "      <td>1</td>\n",
              "      <td>0</td>\n",
              "      <td>71.2833</td>\n",
              "      <td>1</td>\n",
              "      <td>1</td>\n",
              "      <td>0</td>\n",
              "      <td>0</td>\n",
              "    </tr>\n",
              "    <tr>\n",
              "      <th>3</th>\n",
              "      <td>1</td>\n",
              "      <td>26.0</td>\n",
              "      <td>0</td>\n",
              "      <td>0</td>\n",
              "      <td>7.9250</td>\n",
              "      <td>1</td>\n",
              "      <td>0</td>\n",
              "      <td>0</td>\n",
              "      <td>1</td>\n",
              "    </tr>\n",
              "    <tr>\n",
              "      <th>4</th>\n",
              "      <td>1</td>\n",
              "      <td>35.0</td>\n",
              "      <td>1</td>\n",
              "      <td>0</td>\n",
              "      <td>53.1000</td>\n",
              "      <td>1</td>\n",
              "      <td>1</td>\n",
              "      <td>0</td>\n",
              "      <td>0</td>\n",
              "    </tr>\n",
              "    <tr>\n",
              "      <th>5</th>\n",
              "      <td>0</td>\n",
              "      <td>35.0</td>\n",
              "      <td>0</td>\n",
              "      <td>0</td>\n",
              "      <td>8.0500</td>\n",
              "      <td>0</td>\n",
              "      <td>0</td>\n",
              "      <td>0</td>\n",
              "      <td>1</td>\n",
              "    </tr>\n",
              "  </tbody>\n",
              "</table>\n",
              "</div>"
            ],
            "text/plain": [
              "             target   Age  SibSp  Parch  ...  Sex_F  Pclass_1  Pclass_2  Pclass_3\n",
              "PassengerId                              ...                                     \n",
              "1                 0  22.0      1      0  ...      0         0         0         1\n",
              "2                 1  38.0      1      0  ...      1         1         0         0\n",
              "3                 1  26.0      0      0  ...      1         0         0         1\n",
              "4                 1  35.0      1      0  ...      1         1         0         0\n",
              "5                 0  35.0      0      0  ...      0         0         0         1\n",
              "\n",
              "[5 rows x 9 columns]"
            ]
          },
          "metadata": {},
          "execution_count": 60
        }
      ]
    },
    {
      "cell_type": "markdown",
      "metadata": {
        "id": "ZrDkZqNpKzwG"
      },
      "source": [
        "##**7. Modelo**"
      ]
    },
    {
      "cell_type": "code",
      "metadata": {
        "id": "TV_3i1tQLCwb",
        "colab": {
          "base_uri": "https://localhost:8080/"
        },
        "outputId": "88d6054f-2df1-446c-ca0f-5563c8cab4a3"
      },
      "source": [
        "rndforest = RandomForestClassifier(n_estimators=1000,\n",
        "                                   criterion  = 'gini',\n",
        "                                   max_depth = 5)\n",
        "rndforest.fit(x_train, y_train)"
      ],
      "execution_count": null,
      "outputs": [
        {
          "output_type": "execute_result",
          "data": {
            "text/plain": [
              "RandomForestClassifier(bootstrap=True, ccp_alpha=0.0, class_weight=None,\n",
              "                       criterion='gini', max_depth=5, max_features='auto',\n",
              "                       max_leaf_nodes=None, max_samples=None,\n",
              "                       min_impurity_decrease=0.0, min_impurity_split=None,\n",
              "                       min_samples_leaf=1, min_samples_split=2,\n",
              "                       min_weight_fraction_leaf=0.0, n_estimators=1000,\n",
              "                       n_jobs=None, oob_score=False, random_state=None,\n",
              "                       verbose=0, warm_start=False)"
            ]
          },
          "metadata": {},
          "execution_count": 61
        }
      ]
    },
    {
      "cell_type": "code",
      "metadata": {
        "id": "xFZRjuEJwfmb"
      },
      "source": [
        "probabilidade = rndforest.predict_proba(dados.drop('target', axis = 1))[:,1]\n",
        "classificacao = rndforest.predict(dados.drop('target', axis = 1))"
      ],
      "execution_count": null,
      "outputs": []
    },
    {
      "cell_type": "code",
      "metadata": {
        "colab": {
          "base_uri": "https://localhost:8080/"
        },
        "id": "ueIlR0r6zPxz",
        "outputId": "8f9b8970-364f-4b13-eb6f-fc11d78ca471"
      },
      "source": [
        "print(dados.drop('target', axis = 1))"
      ],
      "execution_count": null,
      "outputs": [
        {
          "output_type": "stream",
          "name": "stdout",
          "text": [
            "              Age  SibSp  Parch     Fare  Sex_F  Pclass_1  Pclass_2  Pclass_3\n",
            "PassengerId                                                                  \n",
            "1            22.0      1      0   7.2500      0         0         0         1\n",
            "2            38.0      1      0  71.2833      1         1         0         0\n",
            "3            26.0      0      0   7.9250      1         0         0         1\n",
            "4            35.0      1      0  53.1000      1         1         0         0\n",
            "5            35.0      0      0   8.0500      0         0         0         1\n",
            "...           ...    ...    ...      ...    ...       ...       ...       ...\n",
            "887          27.0      0      0  13.0000      0         0         1         0\n",
            "888          19.0      0      0  30.0000      1         1         0         0\n",
            "889           0.0      1      2  23.4500      1         0         0         1\n",
            "890          26.0      0      0  30.0000      0         1         0         0\n",
            "891          32.0      0      0   7.7500      0         0         0         1\n",
            "\n",
            "[891 rows x 8 columns]\n"
          ]
        }
      ]
    },
    {
      "cell_type": "code",
      "metadata": {
        "id": "Sv8SnJVQyZU9"
      },
      "source": [
        "dados['probabilidade'] = probabilidade\n",
        "dados['classificação'] = classificacao"
      ],
      "execution_count": null,
      "outputs": []
    },
    {
      "cell_type": "code",
      "metadata": {
        "id": "SEjxcbMm0EDd"
      },
      "source": [
        "dados"
      ],
      "execution_count": null,
      "outputs": []
    },
    {
      "cell_type": "markdown",
      "metadata": {
        "id": "o6whOU_8PKOt"
      },
      "source": [
        "##**8. Vizualizando**"
      ]
    },
    {
      "cell_type": "code",
      "metadata": {
        "id": "YkXRzGgJPS28"
      },
      "source": [
        ""
      ],
      "execution_count": null,
      "outputs": []
    }
  ]
}